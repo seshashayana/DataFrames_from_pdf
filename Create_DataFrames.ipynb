{
 "cells": [
  {
   "cell_type": "code",
   "execution_count": 1,
   "metadata": {},
   "outputs": [],
   "source": [
    "import os\n",
    "\n",
    "import tabula\n",
    "\n",
    "import pandas as pd\n",
    "\n",
    "from docx.api import Document\n",
    "\n",
    "dir = \"C:\\\\Users\\\\Sesha Shayana A\\\\Documents\\\\Python\\\\iNeuron\\\\00_Class\\\\Class_07_Data_Analysis\\\\Assignment\\\\\""
   ]
  },
  {
   "cell_type": "markdown",
   "metadata": {},
   "source": [
    "##### My folder structure looks like the image below:\n",
    "\n",
    "<img src=\"https://drive.google.com/uc?id=1NuwCHaPV2f6d-09NBuKHzaheuXl4xBDL\" width = 400px>"
   ]
  },
  {
   "cell_type": "code",
   "execution_count": 2,
   "metadata": {},
   "outputs": [],
   "source": [
    "def getpdffiles(path):\n",
    "    filelist = os.listdir(path)\n",
    "    allpdffiles = list()\n",
    "    \n",
    "    for file in filelist:\n",
    "        fullpath = os.path.join(path, file)\n",
    "        if os.path.isdir(fullpath):\n",
    "            allpdffiles = allpdffiles + getpdffiles(fullpath)\n",
    "        else:\n",
    "            if fullpath.endswith(\".pdf\"):\n",
    "                allpdffiles.append(fullpath)\n",
    "            else:\n",
    "                continue\n",
    "    return allpdffiles\n",
    "\n",
    "def getdocfiles(path):\n",
    "    filelist = os.listdir(path)\n",
    "    alldocfiles = list()\n",
    "    \n",
    "    for file in filelist:\n",
    "        fullpath = os.path.join(path, file)\n",
    "        if os.path.isdir(fullpath):\n",
    "            alldocfiles = alldocfiles + getdocfiles(fullpath)\n",
    "        else:\n",
    "            if fullpath.endswith(\".docx\"):\n",
    "                alldocfiles.append(fullpath)\n",
    "            else:\n",
    "                continue\n",
    "    return alldocfiles\n",
    "\n",
    "def gettxtfiles(path):\n",
    "    filelist = os.listdir(path)\n",
    "    alltxtfiles = list()\n",
    "    \n",
    "    for file in filelist:\n",
    "        fullpath = os.path.join(path, file)\n",
    "        if os.path.isdir(fullpath):\n",
    "            alltxtfiles = alltxtfiles + gettxtfiles(fullpath)\n",
    "        else:\n",
    "            if fullpath.endswith(\".txt\"):\n",
    "                alltxtfiles.append(fullpath)\n",
    "            else:\n",
    "                continue\n",
    "    return alltxtfiles"
   ]
  },
  {
   "cell_type": "code",
   "execution_count": 3,
   "metadata": {},
   "outputs": [],
   "source": [
    "pdffiles = getpdffiles(dir);\n",
    "\n",
    "pdf_df_list = []\n",
    "\n",
    "for i in range(len(pdffiles)):\n",
    "    file_name = pdffiles[i]\n",
    "    pdf_df_list.append(tabula.read_pdf(file_name, pages = \"all\"));\n",
    "    \n",
    "flat_pdftablelist = [item for sublist in pdf_df_list for item in sublist]"
   ]
  },
  {
   "cell_type": "code",
   "execution_count": 4,
   "metadata": {},
   "outputs": [],
   "source": [
    "docfiles = getdocfiles(dir);\n",
    "\n",
    "doc_df_list = []\n",
    "\n",
    "for j in range(len(docfiles)):\n",
    "    path = docfiles[j]\n",
    "    document = Document(path)\n",
    "    for k in range(len(document.tables)):\n",
    "        table = document.tables[k]\n",
    "\n",
    "        data = []\n",
    "\n",
    "        keys = None\n",
    "        for i, row in enumerate(table.rows):\n",
    "            text = (cell.text for cell in row.cells)\n",
    "\n",
    "            if i == 0:\n",
    "                keys = tuple(text)\n",
    "                continue\n",
    "            row_data = dict(zip(keys, text))\n",
    "            data.append(row_data)\n",
    "            #print (data)\n",
    "\n",
    "        df = pd.DataFrame(data)\n",
    "    doc_df_list.append(df)"
   ]
  },
  {
   "cell_type": "code",
   "execution_count": 5,
   "metadata": {},
   "outputs": [],
   "source": [
    "txtfiles = gettxtfiles(dir);\n",
    "\n",
    "txt_df_list = []\n",
    "\n",
    "for i in range(len(txtfiles)):\n",
    "    file_name = txtfiles[i]\n",
    "    txt_df_list.append(pd.read_csv(file_name));"
   ]
  },
  {
   "cell_type": "code",
   "execution_count": null,
   "metadata": {},
   "outputs": [],
   "source": []
  }
 ],
 "metadata": {
  "kernelspec": {
   "display_name": "Python 3",
   "language": "python",
   "name": "python3"
  },
  "language_info": {
   "codemirror_mode": {
    "name": "ipython",
    "version": 3
   },
   "file_extension": ".py",
   "mimetype": "text/x-python",
   "name": "python",
   "nbconvert_exporter": "python",
   "pygments_lexer": "ipython3",
   "version": "3.7.6"
  }
 },
 "nbformat": 4,
 "nbformat_minor": 4
}
